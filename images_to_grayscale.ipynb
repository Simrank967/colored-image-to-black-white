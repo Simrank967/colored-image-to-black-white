{
  "nbformat": 4,
  "nbformat_minor": 0,
  "metadata": {
    "colab": {
      "provenance": []
    },
    "kernelspec": {
      "name": "python3",
      "display_name": "Python 3"
    },
    "language_info": {
      "name": "python"
    }
  },
  "cells": [
    {
      "cell_type": "code",
      "execution_count": 1,
      "metadata": {
        "colab": {
          "base_uri": "https://localhost:8080/"
        },
        "id": "tXDfCPAjGYBf",
        "outputId": "52f2595b-e29c-4217-8c8f-ecfaeba45b6f"
      },
      "outputs": [
        {
          "output_type": "stream",
          "name": "stdout",
          "text": [
            "Collecting bing-image-downloader\n",
            "  Downloading bing_image_downloader-1.1.2-py3-none-any.whl.metadata (2.8 kB)\n",
            "Downloading bing_image_downloader-1.1.2-py3-none-any.whl (5.9 kB)\n",
            "Installing collected packages: bing-image-downloader\n",
            "Successfully installed bing-image-downloader-1.1.2\n",
            "Requirement already satisfied: opencv-python in /usr/local/lib/python3.11/dist-packages (4.11.0.86)\n",
            "Requirement already satisfied: beautifulsoup4 in /usr/local/lib/python3.11/dist-packages (4.13.4)\n",
            "Requirement already satisfied: requests in /usr/local/lib/python3.11/dist-packages (2.32.3)\n",
            "Requirement already satisfied: numpy>=1.21.2 in /usr/local/lib/python3.11/dist-packages (from opencv-python) (2.0.2)\n",
            "Requirement already satisfied: soupsieve>1.2 in /usr/local/lib/python3.11/dist-packages (from beautifulsoup4) (2.7)\n",
            "Requirement already satisfied: typing-extensions>=4.0.0 in /usr/local/lib/python3.11/dist-packages (from beautifulsoup4) (4.14.1)\n",
            "Requirement already satisfied: charset-normalizer<4,>=2 in /usr/local/lib/python3.11/dist-packages (from requests) (3.4.2)\n",
            "Requirement already satisfied: idna<4,>=2.5 in /usr/local/lib/python3.11/dist-packages (from requests) (3.10)\n",
            "Requirement already satisfied: urllib3<3,>=1.21.1 in /usr/local/lib/python3.11/dist-packages (from requests) (2.4.0)\n",
            "Requirement already satisfied: certifi>=2017.4.17 in /usr/local/lib/python3.11/dist-packages (from requests) (2025.7.9)\n"
          ]
        }
      ],
      "source": [
        "!pip install bing-image-downloader\n",
        "! pip install opencv-python beautifulsoup4 requests\n"
      ]
    },
    {
      "cell_type": "code",
      "source": [
        "import os, requests, cv2\n",
        "\n",
        "# Create folders\n",
        "os.makedirs(\"input_images\", exist_ok=True)\n",
        "os.makedirs(\"output_images\", exist_ok=True)\n",
        "\n",
        "# Download N images (change to 100 if needed)\n",
        "N = 20\n",
        "for i in range(N):\n",
        "    try:\n",
        "        url = f\"https://picsum.photos/400/300?random={i}\"\n",
        "        img_path = f\"input_images/{i}.jpg\"\n",
        "        with open(img_path, 'wb') as f:\n",
        "            f.write(requests.get(url).content)\n",
        "\n",
        "        img = cv2.imread(img_path)\n",
        "        if img is not None:\n",
        "            gray = cv2.cvtColor(img, cv2.COLOR_BGR2GRAY)\n",
        "            cv2.imwrite(f\"output_images/{i}.jpg\", gray)\n",
        "    except Exception as e:\n",
        "        print(f\"❌ Error at image {i}: {e}\")\n",
        "\n",
        "print(f\"✅ Downloaded and converted {N} images to grayscale.\")\n"
      ],
      "metadata": {
        "colab": {
          "base_uri": "https://localhost:8080/"
        },
        "id": "T7XrZ8gtGvjr",
        "outputId": "371d20ee-fa75-4534-beeb-b8c3cb9ddc8f"
      },
      "execution_count": 3,
      "outputs": [
        {
          "output_type": "stream",
          "name": "stdout",
          "text": [
            "✅ Downloaded and converted 20 images to grayscale.\n"
          ]
        }
      ]
    }
  ]
}